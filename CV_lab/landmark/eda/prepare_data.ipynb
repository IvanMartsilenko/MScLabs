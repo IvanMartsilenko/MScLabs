{
 "cells": [
  {
   "cell_type": "code",
   "execution_count": 1,
   "metadata": {},
   "outputs": [],
   "source": [
    "import pandas as pd\n",
    "import os"
   ]
  },
  {
   "cell_type": "code",
   "execution_count": 2,
   "metadata": {},
   "outputs": [],
   "source": [
    "# Assigning paths to variables\n",
    "INPUT_PATH = os.path.join('e:/datasets')\n",
    "DATASET_DIR = os.path.join(INPUT_PATH, 'landmark-recognition-2020')\n",
    "TEST_IMAGE_DIR = os.path.join(DATASET_DIR, 'test')\n",
    "TRAIN_IMAGE_DIR = os.path.join(DATASET_DIR, 'train')\n",
    "TRAIN_LABELMAP_PATH = os.path.join(DATASET_DIR, 'train.csv')"
   ]
  },
  {
   "cell_type": "code",
   "execution_count": 3,
   "metadata": {},
   "outputs": [],
   "source": [
    "train_csv = pd.read_csv(TRAIN_LABELMAP_PATH)\n",
    "# put .jpg into the file name\n",
    "def add_txt(fn):\n",
    "    return fn+'.jpg'\n",
    "\n",
    "train_csv['id'] = train_csv['id'].apply(add_txt)\n",
    "\n",
    "\n",
    "\n",
    "# choose those labels with more than 200 images, and choose the first 200 images of each label\n",
    "# move every training files to the same folder\n",
    "\n",
    "if not os.path.exists('training'):\n",
    "    os.mkdir('training')\n",
    "if not os.path.exists('validation'):\n",
    "    os.mkdir('validation')\n",
    "if not os.path.exists('testing'):\n",
    "    os.mkdir('testing')    \n",
    "\n",
    "import shutil\n",
    "\n",
    "\n",
    "label_list = train_csv['landmark_id'].unique()\n",
    "cnt = 0\n",
    "final_label_list = []\n",
    "\n",
    "for label in list(label_list): \n",
    "    file_list = list(train_csv['id'][train_csv['landmark_id']==label])\n",
    "    if len(file_list) >= 200:\n",
    "        final_label_list.append(label)\n",
    "        if not os.path.exists('e:/datasets'):\n",
    "            os.mkdir('e:/datasets')\n",
    "        if not os.path.exists('e:/datasets/demo'):\n",
    "            os.mkdir('e:/datasets/demo')\n",
    "        if not os.path.exists('e:/datasets/demo/training'):\n",
    "            os.mkdir('e:/datasets/demo/training')\n",
    "        if not os.path.exists('e:/datasets/demo/validation'):\n",
    "            os.mkdir('e:/datasets/demo/validation')\n",
    "        if not os.path.exists('e:/datasets/demo/testing'):\n",
    "            os.mkdir('e:/datasets/demo/testing')\n",
    "        if not os.path.exists('e:/datasets/demo/training/'+str(label)):\n",
    "            os.mkdir('e:/datasets/demo/training/'+str(label))\n",
    "        if not os.path.exists('e:/datasets/demo/validation/'+str(label)):\n",
    "            os.mkdir('e:/datasets/demo/validation/'+str(label))\n",
    "        if not os.path.exists('e:/datasets/demo/testing/'+str(label)):\n",
    "            os.mkdir('e:/datasets/demo/testing/'+str(label))\n",
    "        for file in file_list[:120]:  # 120 files for training\n",
    "            src = os.path.join(TRAIN_IMAGE_DIR , file[0] , file[1] , file[2] , file)\n",
    "            dst = 'e:/datasets/demo/training/'+str(label)+'/'+file\n",
    "            if not os.path.exists(dst):\n",
    "                shutil.copyfile(src, dst)\n",
    "        for file in file_list[120:160]: # 40 files for validation\n",
    "            src = os.path.join(TRAIN_IMAGE_DIR , file[0] , file[1] , file[2] , file)\n",
    "            dst = 'e:/datasets/demo/validation/'+str(label)+'/'+file\n",
    "            if not os.path.exists(dst):\n",
    "                shutil.copyfile(src, dst)\n",
    "        for file in file_list[160:200]: # 40 files for testing\n",
    "            src = os.path.join(TRAIN_IMAGE_DIR , file[0] , file[1] , file[2] , file)\n",
    "            dst = 'e:/datasets/demo/testing/'+str(label)+'/'+file\n",
    "            if not os.path.exists(dst):\n",
    "                shutil.copyfile(src, dst)\n",
    "        cnt += 1\n",
    "    if cnt == 100: # only need 100 labels\n",
    "        break"
   ]
  }
 ],
 "metadata": {
  "interpreter": {
   "hash": "5c0372ed38b372118c24adb00d45654d76c8d10261533c5724e3f5fc1d75489a"
  },
  "kernelspec": {
   "display_name": "Python 3.8.0 64-bit",
   "language": "python",
   "name": "python3"
  },
  "language_info": {
   "codemirror_mode": {
    "name": "ipython",
    "version": 3
   },
   "file_extension": ".py",
   "mimetype": "text/x-python",
   "name": "python",
   "nbconvert_exporter": "python",
   "pygments_lexer": "ipython3",
   "version": "3.8.0"
  },
  "orig_nbformat": 4
 },
 "nbformat": 4,
 "nbformat_minor": 2
}
